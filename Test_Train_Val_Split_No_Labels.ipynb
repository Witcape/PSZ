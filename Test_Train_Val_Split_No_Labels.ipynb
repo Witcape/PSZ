{
  "nbformat": 4,
  "nbformat_minor": 0,
  "metadata": {
    "colab": {
      "provenance": [],
      "authorship_tag": "ABX9TyNEf/e1k5sAVMAAsD8ph5Gv",
      "include_colab_link": true
    },
    "kernelspec": {
      "name": "python3",
      "display_name": "Python 3"
    },
    "language_info": {
      "name": "python"
    }
  },
  "cells": [
    {
      "cell_type": "markdown",
      "metadata": {
        "id": "view-in-github",
        "colab_type": "text"
      },
      "source": [
        "<a href=\"https://colab.research.google.com/github/Witcape/PSZ/blob/main/Test_Train_Val_Split_No_Labels.ipynb\" target=\"_parent\"><img src=\"https://colab.research.google.com/assets/colab-badge.svg\" alt=\"Open In Colab\"/></a>"
      ]
    },
    {
      "cell_type": "code",
      "source": [
        "import os\n",
        "import random\n",
        "import shutil"
      ],
      "metadata": {
        "id": "dOIiTowGmmSu"
      },
      "execution_count": 3,
      "outputs": []
    },
    {
      "cell_type": "code",
      "source": [
        "def get_file_addresses(folder_path):\n",
        "  return [os.path.join(folder_path, file) for file in os.listdir(folder_path) if os.path.isfile(os.path.join(folder_path, file))]"
      ],
      "metadata": {
        "id": "axNyvamHmeRu"
      },
      "execution_count": 4,
      "outputs": []
    },
    {
      "cell_type": "code",
      "execution_count": 5,
      "metadata": {
        "id": "92zVVDKxkWXb"
      },
      "outputs": [],
      "source": [
        "def split_dataset(addresses, train_ratio, val_ratio, test_ratio, seed = 42):\n",
        "  random.seed(seed)\n",
        "  total = len(addresses)\n",
        "  train_end = int(total * train_ratio)\n",
        "  val_end = train_end + int(total * val_ratio)\n",
        "\n",
        "  train_split = addresses[:train_end]\n",
        "  val_split = addresses[train_end:val_end]\n",
        "  test_split = addresses[val_end:]\n",
        "  return train_split, val_split, test_split"
      ]
    },
    {
      "cell_type": "code",
      "source": [
        "def save_splits(train_split, val_split, test_split, output_folder):\n",
        "  train_dir = os.path.join(output_folder, \"train\")\n",
        "  val_dir = os.path.join(output_folder, \"val\")\n",
        "  test_dir = os.path.join(output_folder, \"test\")\n",
        "\n",
        "  os.makedirs(train_dir, exist_ok=True)\n",
        "  os.makedirs(val_dir, exist_ok=True)\n",
        "  os.makedirs(test_dir, exist_ok=True)\n",
        "\n",
        "  def copy_files(file_list, target_dir):\n",
        "    for file_path in file_list:\n",
        "      shutil.copy(file_path, target_dir)\n",
        "\n",
        "  copy_files(train_split, train_dir)\n",
        "  copy_files(val_split, val_dir)\n",
        "  copy_files(test_split, test_dir)"
      ],
      "metadata": {
        "id": "ruiC9cg8kqKq"
      },
      "execution_count": 7,
      "outputs": []
    },
    {
      "cell_type": "code",
      "source": [
        "# input_folder = \"\"\n",
        "# output_folder = \"\"\n",
        "\n",
        "# file_addresses = get_file_addresses(input_folder)\n",
        "# train, val, test = split_dataset(file_addresses, train_ratio=0.7, val_ratio=0.2, test_ratio=0.1, seed=42)\n",
        "# save_splits(train, val, test, output_folder)\n",
        "\n",
        "# print(f\"Data split and saved to {output_folder}/train, {output_folder}/val, {output_folder}/test\")"
      ],
      "metadata": {
        "id": "zc7dhcVom75h"
      },
      "execution_count": 9,
      "outputs": []
    },
    {
      "cell_type": "code",
      "source": [],
      "metadata": {
        "id": "5dt1rObtnix4"
      },
      "execution_count": null,
      "outputs": []
    }
  ]
}